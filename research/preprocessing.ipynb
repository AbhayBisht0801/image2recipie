{
 "cells": [
  {
   "cell_type": "code",
   "execution_count": 1,
   "metadata": {},
   "outputs": [],
   "source": [
    "import os"
   ]
  },
  {
   "cell_type": "code",
   "execution_count": 2,
   "metadata": {},
   "outputs": [],
   "source": [
    "os.chdir('../')"
   ]
  },
  {
   "cell_type": "code",
   "execution_count": 3,
   "metadata": {},
   "outputs": [],
   "source": [
    "from dataclasses import dataclass\n",
    "from pathlib import Path\n",
    "\n",
    "@dataclass(frozen=True)\n",
    "class  DataPreprocessConfig:\n",
    "    root_dir:Path\n",
    "    input_preprocess:Path\n",
    "    image_input:Path\n",
    "    text_input:Path\n",
    "    output_preprocess:Path\n",
    "    unzip_dir:Path\n",
    "\n"
   ]
  },
  {
   "cell_type": "code",
   "execution_count": 4,
   "metadata": {},
   "outputs": [
    {
     "name": "stderr",
     "output_type": "stream",
     "text": [
      "[nltk_data] Downloading package stopwords to\n",
      "[nltk_data]     C:\\Users\\bisht\\AppData\\Roaming\\nltk_data...\n",
      "[nltk_data]   Package stopwords is already up-to-date!\n"
     ]
    }
   ],
   "source": [
    "from Image2Recipie.constants import *\n",
    "from Image2Recipie.utils.common import read_yaml,create_directories"
   ]
  },
  {
   "cell_type": "code",
   "execution_count": 5,
   "metadata": {},
   "outputs": [],
   "source": [
    "class ConfigurationManager:\n",
    "    def __init__(\n",
    "            self,\n",
    "            config_filepath=CONFIG_FILE_PATH,\n",
    "            params_filepath=PARAMS_FILE_PATH\n",
    "\n",
    "    ):\n",
    "        self.config=read_yaml(config_filepath)\n",
    "        self.params=read_yaml(params_filepath)\n",
    "\n",
    "    def get_data_preprocessing_config(self)->DataPreprocessConfig:\n",
    "        config=self.config\n",
    "        create_directories([config.preprocessing.root_dir])\n",
    "        create_directories([config.preprocessing.input_preprocess])\n",
    "        create_directories([config.preprocessing.output_preprocess])\n",
    "        data_preprocess_config=DataPreprocessConfig(\n",
    "            root_dir=config.preprocessing.root_dir,\n",
    "            input_preprocess=config.preprocessing.input_preprocess,\n",
    "            image_input=config.preprocessing.image_input,\n",
    "            text_input=config.preprocessing.text_input,\n",
    "            output_preprocess=config.preprocessing.output_preprocess,\n",
    "            unzip_dir=config.data_ingestion.unzip_dir\n",
    "        )\n",
    "        return data_preprocess_config"
   ]
  },
  {
   "cell_type": "code",
   "execution_count": 6,
   "metadata": {},
   "outputs": [],
   "source": [
    "import os\n",
    "import urllib.request as request \n",
    "import gdown\n",
    "from Image2Recipie import logger\n",
    "import tensorflow as tf\n",
    "from Image2Recipie.utils.common import save_object,get_maxlen,clean_ingredients,CustomTokenizer\n",
    "import cv2 as cv\n",
    "import pandas as pd\n",
    "import numpy as np\n",
    "from tensorflow.keras.preprocessing.text import Tokenizer\n",
    "from tensorflow.keras.preprocessing.sequence import pad_sequences"
   ]
  },
  {
   "cell_type": "code",
   "execution_count": 16,
   "metadata": {},
   "outputs": [],
   "source": [
    "class DataPreprocess:\n",
    "    def __init__(self,config:DataPreprocessConfig):\n",
    "        self.config = config\n",
    "        self.input_image=None \n",
    "    def input_preprocess(self):\n",
    "        self.data=pd.read_csv(os.path.join(self.config.unzip_dir,'cuisine_updated.csv'))\n",
    "        \n",
    "        X=[]\n",
    "        for i in self.data['image_path']:\n",
    "            \n",
    "            img = cv.imread(os.path.join(self.config.unzip_dir, \"data/data/\" + i))\n",
    "            img = cv.resize(img, (224, 224))\n",
    "            img=cv.resize(img,(180,180))\n",
    "            X.append(img)\n",
    "        input_image=np.array(X)\n",
    "        save_object(self.config.image_input,input_image)\n",
    "        maxlen=get_maxlen(self.data['name'])\n",
    "        token=Tokenizer()\n",
    "        token.fit_on_texts(self.data['name'])\n",
    "        Xtoken=token.texts_to_sequences(self.data['name'])\n",
    "        Xtoken=pad_sequences(Xtoken,maxlen=maxlen)\n",
    "        save_object(self.config.text_input,Xtoken)\n",
    "        save_object(os.path.join(self.config.input_preprocess,'input_tokenizer.pkl'),token)\n",
    "        logger.info(f'The Preprocessed input is saved in {self.config.input_preprocess}')\n",
    "\n",
    "    def output_preprcess(self):\n",
    "        self.data['cleaned_ingredient']=self.data['cleaned_ingredient'].apply(clean_ingredients)\n",
    "        self.data['cleaned_ingredient']=self.data['cleaned_ingredient'].apply(lambda x:','.join([x.strip() for x in x.split(',')]))\n",
    "        tokenizer=CustomTokenizer()\n",
    "        y_tokenized=tokenizer.fit_transform(self.data['cleaned_ingredient'])\n",
    "        save_object(os.path.join(self.config.output_preprocess,'y_tokenized.pkl'),y_tokenized)\n",
    "        save_object(os.path.join(self.config.output_preprocess,'tokenizer.pkl'),tokenizer)\n",
    "        logger.info(f'The Preprocessed output is saved in {self.config.output_preprocess}')\n",
    "\n",
    "\n",
    "\n",
    "        \n",
    "    \n",
    "\n",
    "            \n",
    "            \n",
    "\n",
    "\n",
    "\n"
   ]
  },
  {
   "cell_type": "code",
   "execution_count": 17,
   "metadata": {},
   "outputs": [
    {
     "name": "stdout",
     "output_type": "stream",
     "text": [
      "[2024-10-26 14:17:30,465:INFO:common:yaml file: config\\config.yaml loaded successfully]\n",
      "[2024-10-26 14:17:30,467:INFO:common:yaml file: params.yaml loaded successfully]\n",
      "[2024-10-26 14:17:30,469:INFO:common:created directory at: artifacts/preprocessing]\n",
      "[2024-10-26 14:17:30,470:INFO:common:created directory at: artifacts/preprocessing/inputs_preprocess]\n",
      "[2024-10-26 14:17:30,471:INFO:common:created directory at: artifacts/preprocessing/output_preprocess]\n",
      "[2024-10-26 14:18:24,121:INFO:131008179:The Preprocessed input is saved in artifacts/preprocessing/inputs_preprocess]\n",
      "[2024-10-26 14:18:25,179:INFO:131008179:The Preprocessed output is saved in artifacts/preprocessing/output_preprocess]\n"
     ]
    }
   ],
   "source": [
    "try:\n",
    "    config=ConfigurationManager()\n",
    "    data_preprocessing_config=config.get_data_preprocessing_config()\n",
    "    data_preprocessing=DataPreprocess(config=data_preprocessing_config)\n",
    "    data_preprocessing.input_preprocess()\n",
    "    data_preprocessing.output_preprcess()\n",
    "    \n",
    "except Exception as e:\n",
    "    raise e"
   ]
  },
  {
   "cell_type": "code",
   "execution_count": null,
   "metadata": {},
   "outputs": [],
   "source": []
  },
  {
   "cell_type": "code",
   "execution_count": 11,
   "metadata": {},
   "outputs": [
    {
     "data": {
      "text/html": [
       "<div>\n",
       "<style scoped>\n",
       "    .dataframe tbody tr th:only-of-type {\n",
       "        vertical-align: middle;\n",
       "    }\n",
       "\n",
       "    .dataframe tbody tr th {\n",
       "        vertical-align: top;\n",
       "    }\n",
       "\n",
       "    .dataframe thead th {\n",
       "        text-align: right;\n",
       "    }\n",
       "</style>\n",
       "<table border=\"1\" class=\"dataframe\">\n",
       "  <thead>\n",
       "    <tr style=\"text-align: right;\">\n",
       "      <th></th>\n",
       "      <th>Unnamed: 0</th>\n",
       "      <th>name</th>\n",
       "      <th>image_url</th>\n",
       "      <th>description</th>\n",
       "      <th>cuisine</th>\n",
       "      <th>course</th>\n",
       "      <th>diet</th>\n",
       "      <th>prep_time</th>\n",
       "      <th>ingredients</th>\n",
       "      <th>instructions</th>\n",
       "      <th>image_available</th>\n",
       "      <th>cleaned_ingredient</th>\n",
       "      <th>image_path</th>\n",
       "    </tr>\n",
       "  </thead>\n",
       "  <tbody>\n",
       "    <tr>\n",
       "      <th>2661</th>\n",
       "      <td>2661</td>\n",
       "      <td>Urulaikizhangu Puli Thokku</td>\n",
       "      <td>https://www.archanaskitchen.com/images/archana...</td>\n",
       "      <td>Urulaikizhangu Puli Thokku Recipe (South India...</td>\n",
       "      <td>NaN</td>\n",
       "      <td>NaN</td>\n",
       "      <td>NaN</td>\n",
       "      <td>NaN</td>\n",
       "      <td>\\n</td>\n",
       "      <td>To begin making Urulaikizhangu Puli Thokku Rec...</td>\n",
       "      <td>1</td>\n",
       "      <td>NaN</td>\n",
       "      <td>3150.Urulaikizhangu_Puli_Thokku_Recipe_South_I...</td>\n",
       "    </tr>\n",
       "    <tr>\n",
       "      <th>2662</th>\n",
       "      <td>2662</td>\n",
       "      <td>Classic Pavakkai Stir Fry</td>\n",
       "      <td>https://www.archanaskitchen.com/images/archana...</td>\n",
       "      <td>Bitter Gourd is known as Pavakkai in Tamil. Ma...</td>\n",
       "      <td>NaN</td>\n",
       "      <td>NaN</td>\n",
       "      <td>NaN</td>\n",
       "      <td>NaN</td>\n",
       "      <td>\\n</td>\n",
       "      <td>To begin making the Classic Pavakkai Stir Fry,...</td>\n",
       "      <td>1</td>\n",
       "      <td>NaN</td>\n",
       "      <td>3151.Pavakkai_Fry_Recipe_Bitter_Gourd_Fry.jpg</td>\n",
       "    </tr>\n",
       "  </tbody>\n",
       "</table>\n",
       "</div>"
      ],
      "text/plain": [
       "      Unnamed: 0                         name  \\\n",
       "2661        2661  Urulaikizhangu Puli Thokku    \n",
       "2662        2662   Classic Pavakkai Stir Fry    \n",
       "\n",
       "                                              image_url  \\\n",
       "2661  https://www.archanaskitchen.com/images/archana...   \n",
       "2662  https://www.archanaskitchen.com/images/archana...   \n",
       "\n",
       "                                            description cuisine course diet  \\\n",
       "2661  Urulaikizhangu Puli Thokku Recipe (South India...     NaN    NaN  NaN   \n",
       "2662  Bitter Gourd is known as Pavakkai in Tamil. Ma...     NaN    NaN  NaN   \n",
       "\n",
       "     prep_time ingredients                                       instructions  \\\n",
       "2661       NaN          \\n  To begin making Urulaikizhangu Puli Thokku Rec...   \n",
       "2662       NaN          \\n  To begin making the Classic Pavakkai Stir Fry,...   \n",
       "\n",
       "      image_available cleaned_ingredient  \\\n",
       "2661                1                NaN   \n",
       "2662                1                NaN   \n",
       "\n",
       "                                             image_path  \n",
       "2661  3150.Urulaikizhangu_Puli_Thokku_Recipe_South_I...  \n",
       "2662      3151.Pavakkai_Fry_Recipe_Bitter_Gourd_Fry.jpg  "
      ]
     },
     "execution_count": 11,
     "metadata": {},
     "output_type": "execute_result"
    }
   ],
   "source": [
    "df[df['cleaned_ingredient'].isnull()]"
   ]
  },
  {
   "cell_type": "code",
   "execution_count": 35,
   "metadata": {},
   "outputs": [
    {
     "data": {
      "text/plain": [
       "'\\n'"
      ]
     },
     "execution_count": 35,
     "metadata": {},
     "output_type": "execute_result"
    }
   ],
   "source": []
  },
  {
   "cell_type": "code",
   "execution_count": null,
   "metadata": {},
   "outputs": [],
   "source": []
  }
 ],
 "metadata": {
  "kernelspec": {
   "display_name": "venv",
   "language": "python",
   "name": "python3"
  },
  "language_info": {
   "codemirror_mode": {
    "name": "ipython",
    "version": 3
   },
   "file_extension": ".py",
   "mimetype": "text/x-python",
   "name": "python",
   "nbconvert_exporter": "python",
   "pygments_lexer": "ipython3",
   "version": "3.10.11"
  }
 },
 "nbformat": 4,
 "nbformat_minor": 2
}
